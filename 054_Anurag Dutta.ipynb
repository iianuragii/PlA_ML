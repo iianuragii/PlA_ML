{
 "cells": [
  {
   "cell_type": "code",
   "execution_count": 2,
   "id": "29bf981c",
   "metadata": {},
   "outputs": [],
   "source": [
    "import pandas as pd\n",
    "import numpy as np\n",
    "from random import seed, shuffle"
   ]
  },
  {
   "cell_type": "code",
   "execution_count": 3,
   "id": "2df75843",
   "metadata": {},
   "outputs": [],
   "source": [
    "class Perceptron:\n",
    "    def __init__(self, learning_rate=0.01, epochs=1000):\n",
    "        self.learning_rate = learning_rate\n",
    "        self.epochs = epochs\n",
    "        self.weights = None\n",
    "        self.bias = None\n",
    "\n",
    "    def train(self, X, y):\n",
    "        # Initialize weights and bias\n",
    "        num_features = X.shape[1]\n",
    "        self.weights = np.zeros(num_features)\n",
    "        self.bias = 0\n",
    "\n",
    "        for epoch in range(self.epochs):\n",
    "            for i in range(X.shape[0]):\n",
    "                prediction = np.dot(X[i], self.weights) + self.bias\n",
    "                if prediction * y[i] <= 0:\n",
    "                    self.weights += self.learning_rate * y[i] * X[i]\n",
    "                    self.bias += self.learning_rate * y[i]\n",
    "\n",
    "    def predict(self, X):\n",
    "        return np.sign(np.dot(X, self.weights) + self.bias)"
   ]
  },
  {
   "cell_type": "code",
   "execution_count": 4,
   "id": "e85442da",
   "metadata": {},
   "outputs": [],
   "source": [
    "def split_data(data, train_ratio=0.75):\n",
    "    data_copy = data.copy()\n",
    "    data_copy = data_copy.sample(frac=1).reset_index(drop=True)  # Shuffle the data\n",
    "    train_size = int(train_ratio * len(data_copy))\n",
    "    train_data, test_data = data_copy[:train_size], data_copy[train_size:]\n",
    "    return train_data, test_data"
   ]
  },
  {
   "cell_type": "code",
   "execution_count": 25,
   "id": "3a770fd8",
   "metadata": {},
   "outputs": [],
   "source": [
    "def main():\n",
    "    # Load data from Excel sheet\n",
    "    file_path = r'C:\\Users\\Anurag dutta\\Desktop\\PLA_Data1.xlsx'\n",
    "    df = pd.read_excel(file_path)\n",
    "\n",
    "    # Extract features and labels\n",
    "    X = df[['x1', 'x2']].values\n",
    "    y = df['Class'].values\n",
    "\n",
    "    # Map class labels to {-1, 1}\n",
    "    y = np.where(y == 0, -1, 1)\n",
    "\n",
    "    # Split the data into training and testing sets\n",
    "    train_data, test_data = split_data(df)\n",
    "\n",
    "    X_train = train_data[['x1', 'x2']].values\n",
    "    y_train = train_data['Class'].values\n",
    "    y_train = np.where(y_train == 0, -1, 1)\n",
    "\n",
    "    X_test = test_data[['x1', 'x2']].values\n",
    "    y_test = test_data['Class'].values\n",
    "    y_test = np.where(y_test == 0, -1, 1)\n",
    "\n",
    "    # Create and train the Perceptron model\n",
    "    perceptron = Perceptron(learning_rate=0.1, epochs=1)\n",
    "    perceptron.train(X_train, y_train)\n",
    "\n",
    "    # Test the model on training data\n",
    "    y_train_pred = perceptron.predict(X_train)\n",
    "\n",
    "    # Evaluate accuracy on training data\n",
    "    train_accuracy = np.mean(y_train_pred == y_train)\n",
    "    print(f\"Training Accuracy from the given Dataset is: {train_accuracy * 100:.2f}%\")\n",
    "\n",
    "    # Test the model on test data\n",
    "    y_test_pred = perceptron.predict(X_test)\n",
    "\n",
    "    # Evaluate accuracy on test data\n",
    "    test_accuracy = np.mean(y_test_pred == y_test)\n",
    "    print(f\"Test Accuracy from the given Dataset is:: {test_accuracy * 100:.2f}%\")"
   ]
  },
  {
   "cell_type": "code",
   "execution_count": 26,
   "id": "14744e90",
   "metadata": {},
   "outputs": [
    {
     "name": "stdout",
     "output_type": "stream",
     "text": [
      "Training Accuracy from the given Dataset is: 100.00%\n",
      "Test Accuracy from the given Dataset is:: 100.00%\n"
     ]
    }
   ],
   "source": [
    "main()"
   ]
  },
  {
   "cell_type": "code",
   "execution_count": null,
   "id": "481e4cb1",
   "metadata": {},
   "outputs": [],
   "source": []
  }
 ],
 "metadata": {
  "kernelspec": {
   "display_name": "Python 3 (ipykernel)",
   "language": "python",
   "name": "python3"
  },
  "language_info": {
   "codemirror_mode": {
    "name": "ipython",
    "version": 3
   },
   "file_extension": ".py",
   "mimetype": "text/x-python",
   "name": "python",
   "nbconvert_exporter": "python",
   "pygments_lexer": "ipython3",
   "version": "3.11.5"
  }
 },
 "nbformat": 4,
 "nbformat_minor": 5
}
